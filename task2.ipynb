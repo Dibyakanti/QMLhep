{
 "cells": [
  {
   "cell_type": "code",
   "execution_count": 172,
   "metadata": {},
   "outputs": [],
   "source": [
    "import cirq"
   ]
  },
  {
   "cell_type": "markdown",
   "metadata": {},
   "source": [
    "## TASK 1"
   ]
  },
  {
   "cell_type": "code",
   "execution_count": 173,
   "metadata": {},
   "outputs": [
    {
     "name": "stdout",
     "output_type": "stream",
     "text": [
      "                          ┌──┐\n",
      "0: ───H───@────────────────×─────X───\n",
      "          │                │\n",
      "1: ───H───X───@───X────────┼─────────\n",
      "              │            │\n",
      "2: ───H───────X───@───X────┼─────────\n",
      "                  │        │\n",
      "3: ───H───────────X───@────┼X────────\n",
      "                      │    │\n",
      "4: ───H───────────────X────×─────X───\n",
      "                          └──┘\n"
     ]
    }
   ],
   "source": [
    "# task 1\n",
    "length = 5\n",
    "(q0,q1,q2,q3,q4) = cirq.LineQubit.range(length)\n",
    "\n",
    "circuit = cirq.Circuit()\n",
    "circuit.append([cirq.H(q0),cirq.H(q1),cirq.H(q2),cirq.H(q3),cirq.H(q4)])\n",
    "circuit.append([cirq.CNOT(q0,q1),cirq.CNOT(q1,q2),cirq.CNOT(q2,q3),cirq.CNOT(q3,q4)])\n",
    "circuit.append(cirq.SWAP(q0,q4))\n",
    "rot = cirq.XPowGate(exponent = 1)\n",
    "circuit.append([rot(q0),rot(q1),rot(q2),rot(q3),rot(q4)])\n",
    "print(circuit)"
   ]
  },
  {
   "cell_type": "markdown",
   "metadata": {},
   "source": [
    "## TASK 2"
   ]
  },
  {
   "cell_type": "code",
   "execution_count": 174,
   "metadata": {},
   "outputs": [
    {
     "name": "stderr",
     "output_type": "stream",
     "text": [
      "/home/dibyakanti/anaconda3/lib/python3.7/site-packages/ipykernel_launcher.py:5: DeprecationWarning: Rx was used but is deprecated.\n",
      "It will be removed in cirq v0.8.0.\n",
      "Use cirq.rx, instead.\n",
      "\n",
      "  \"\"\"\n"
     ]
    }
   ],
   "source": [
    "# task 2\n",
    "cir2 = cirq.Circuit()\n",
    "q = cirq.LineQubit(1)\n",
    "for i in range(100):\n",
    "    cir2.append(cirq.Rx(0.1)(q))\n",
    "    cir2.append(cirq.measure(q,key=(\"x\"+str(i))))"
   ]
  },
  {
   "cell_type": "code",
   "execution_count": 175,
   "metadata": {},
   "outputs": [],
   "source": [
    "# print(cir2)"
   ]
  },
  {
   "cell_type": "code",
   "execution_count": 176,
   "metadata": {},
   "outputs": [],
   "source": [
    "simulator = cirq.Simulator()\n",
    "result = simulator.run(cir2,repetitions = 1000)"
   ]
  },
  {
   "cell_type": "code",
   "execution_count": 177,
   "metadata": {},
   "outputs": [],
   "source": [
    "xp = []\n",
    "for i in range(100):\n",
    "    xp.append((1000 - int(result.measurements[\"x\"+str(i)][:,0][result.measurements[\"x\"+str(i)][:,0]==1].sum()))/1000)\n",
    "    "
   ]
  },
  {
   "cell_type": "code",
   "execution_count": 178,
   "metadata": {},
   "outputs": [
    {
     "data": {
      "text/plain": [
       "list"
      ]
     },
     "execution_count": 178,
     "metadata": {},
     "output_type": "execute_result"
    }
   ],
   "source": [
    "import seaborn as sns\n",
    "type(xp)"
   ]
  },
  {
   "cell_type": "code",
   "execution_count": 179,
   "metadata": {},
   "outputs": [
    {
     "data": {
      "text/plain": [
       "Text(0, 0.5, 'Probability')"
      ]
     },
     "execution_count": 179,
     "metadata": {},
     "output_type": "execute_result"
    },
    {
     "data": {
      "image/png": "[encoded data removed]",
      "text/plain": [
       "<Figure size 432x288 with 1 Axes>"
      ]
     },
     "metadata": {
      "needs_background": "light"
     },
     "output_type": "display_data"
    }
   ],
   "source": [
    "import pandas as pd\n",
    "import matplotlib.pyplot as plt\n",
    "\n",
    "df = pd.DataFrame(xp)\n",
    "sns.lineplot(data = df)\n",
    "plt.title(\"Probability of measuring state |0>\")\n",
    "plt.xlabel(\"No. of rotations\")\n",
    "plt.ylabel(\"Probability\")"
   ]
  },
  {
   "cell_type": "code",
   "execution_count": null,
   "metadata": {},
   "outputs": [],
   "source": []
  }
 ],
 "metadata": {
  "kernelspec": {
   "display_name": "Python 3",
   "language": "python",
   "name": "python3"
  },
  "language_info": {
   "codemirror_mode": {
    "name": "ipython",
    "version": 3
   },
   "file_extension": ".py",
   "mimetype": "text/x-python",
   "name": "python",
   "nbconvert_exporter": "python",
   "pygments_lexer": "ipython3",
   "version": "3.7.4"
  }
 },
 "nbformat": 4,
 "nbformat_minor": 4
}
